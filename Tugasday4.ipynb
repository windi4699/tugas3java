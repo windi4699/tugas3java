{
 "cells": [
  {
   "cell_type": "markdown",
   "metadata": {},
   "source": [
    "Jawaban Tugas 4.1"
   ]
  },
  {
   "cell_type": "code",
   "execution_count": 1,
   "metadata": {},
   "outputs": [
    {
     "name": "stdout",
     "output_type": "stream",
     "text": [
      "Tinggi indeks ke-0 adalah 3\n",
      "Tinggi indeks ke-1 adalah 6\n",
      "Tinggi indeks ke-2 adalah 3\n"
     ]
    },
    {
     "data": {
      "text/plain": [
       "null"
      ]
     },
     "execution_count": 1,
     "metadata": {},
     "output_type": "execute_result"
    }
   ],
   "source": [
    "//Program 4.1  \n",
    "   int[] tinggi; //deklarasi\n",
    "   tinggi = new int[3]; //inisiasi\n",
    "   tinggi[0] = 3;  \n",
    "   tinggi[1] = 6;\n",
    "   tinggi[2] = 3;\n",
    "   \n",
    "   for(int i=0;i<tinggi.length;i++) {\n",
    "       System.out.println(\"Tinggi indeks ke-\"+i+\" adalah \"+tinggi[i]);\n",
    "   }"
   ]
  },
  {
   "cell_type": "code",
   "execution_count": 2,
   "metadata": {},
   "outputs": [
    {
     "name": "stdout",
     "output_type": "stream",
     "text": [
      "Tinggi indeks ke-0 adalah 3\n",
      "Tinggi indeks ke-1 adalah 6\n",
      "Tinggi indeks ke-2 adalah 3\n"
     ]
    },
    {
     "data": {
      "text/plain": [
       "null"
      ]
     },
     "execution_count": 2,
     "metadata": {},
     "output_type": "execute_result"
    }
   ],
   "source": [
    "//Program 4.1  \n",
    "   int[] tinggi; //deklarasi\n",
    "   tinggi = new int[] {3,6,3}; //inisiasi\n",
    "   tinggi[0] = 3;  \n",
    "   tinggi[1] = 6;\n",
    "   tinggi[2] = 3;\n",
    "   \n",
    "   for(int i=0;i<tinggi.length;i++) {\n",
    "       System.out.println(\"Tinggi indeks ke-\"+i+\" adalah \"+tinggi[i]);\n",
    "   }"
   ]
  },
  {
   "cell_type": "markdown",
   "metadata": {},
   "source": [
    "Program yang inisiasi variabel tingginya tidak di ubah dan program yang inisiasi variabel tingginya di ubah menampilkan output yang sama."
   ]
  },
  {
   "cell_type": "markdown",
   "metadata": {},
   "source": [
    "Jawaban 4.2"
   ]
  },
  {
   "cell_type": "markdown",
   "metadata": {},
   "source": [
    "a."
   ]
  },
  {
   "cell_type": "code",
   "execution_count": 5,
   "metadata": {},
   "outputs": [
    {
     "name": "stdout",
     "output_type": "stream",
     "text": [
      "Tinggi indeks ke-0 adalah 3\n"
     ]
    },
    {
     "data": {
      "text/plain": [
       "null"
      ]
     },
     "execution_count": 5,
     "metadata": {},
     "output_type": "execute_result"
    }
   ],
   "source": [
    "int[] tinggi; //deklarasi\n",
    "   tinggi = new int[3]; //inisiasi\n",
    "   tinggi[0] = 3;  \n",
    "   tinggi[1] = 6;\n",
    "   tinggi[2] = 3;\n",
    "   \n",
    "\n",
    "System.out.println(\"Tinggi indeks ke-\"+0+\" adalah \"+tinggi[0]);\n",
    "   "
   ]
  },
  {
   "cell_type": "code",
   "execution_count": 6,
   "metadata": {},
   "outputs": [
    {
     "ename": "']' expected",
     "evalue": "']' expected",
     "output_type": "error",
     "traceback": [
      "\u001b[1;31m']' expected\u001b[0;0m",
      "\u001b[1;31mks ke-\"+0,2+\" adalah \"+tinggi[0,2])\u001b[0;0m",
      "\u001b[1;31m                               ^    \u001b[0;0m",
      "\u001b[1;31m\u001b[0;0m",
      "\u001b[1;31m')' expected\u001b[0;0m",
      "\u001b[1;31m ke-\"+0,2+\" adalah \"+tinggi[0,2])\u001b[0;0m",
      "\u001b[1;31m                               ^  \u001b[0;0m",
      "\u001b[1;31m\u001b[0;0m",
      "\u001b[1;31millegal start of expression\u001b[0;0m",
      "\u001b[1;31mke-\"+0,2+\" adalah \"+tinggi[0,2])\u001b[0;0m",
      "\u001b[1;31m                               ^^ \u001b[0;0m"
     ]
    }
   ],
   "source": [
    "int[] tinggi; //deklarasi\n",
    "   tinggi = new int[3]; //inisiasi\n",
    "   tinggi[0] = 3;  \n",
    "   tinggi[1] = 6;\n",
    "   tinggi[2] = 3;\n",
    "   \n",
    "\n",
    "System.out.println(\"Tinggi indeks ke-\"+0,2+\" adalah \"+tinggi[0,2]);"
   ]
  },
  {
   "cell_type": "markdown",
   "metadata": {},
   "source": [
    "Program tidak dapat menampilkan nilai pada index 0,2 di karenakan pada array index harus berupa bilangan bulat yang di mulai dari angka 0 "
   ]
  },
  {
   "cell_type": "code",
   "execution_count": 7,
   "metadata": {},
   "outputs": [
    {
     "name": "stdout",
     "output_type": "stream",
     "text": [
      "Tinggi adalah:3\n",
      "Tinggi adalah:6\n",
      "Tinggi adalah:3\n"
     ]
    },
    {
     "data": {
      "text/plain": [
       "null"
      ]
     },
     "execution_count": 7,
     "metadata": {},
     "output_type": "execute_result"
    }
   ],
   "source": [
    "//Program 4.2   \n",
    "   int[] tinggi;\n",
    "   tinggi = new int[3];\n",
    "   tinggi[0] = 3;  \n",
    "   tinggi[1] = 6;\n",
    "   tinggi[2] = 3;\n",
    "   \n",
    "   for(int n:tinggi) {\n",
    "       System.out.println(\"Tinggi adalah:\"+n);\n",
    "   }"
   ]
  },
  {
   "cell_type": "markdown",
   "metadata": {},
   "source": [
    "Jawaban Tugas 4.3"
   ]
  },
  {
   "cell_type": "code",
   "execution_count": 28,
   "metadata": {},
   "outputs": [
    {
     "name": "stdout",
     "output_type": "stream",
     "text": [
      "Tinggi adalah:3\n",
      "Tinggi adalah:6\n",
      "Tinggi adalah:3\n"
     ]
    },
    {
     "data": {
      "text/plain": [
       "null"
      ]
     },
     "execution_count": 28,
     "metadata": {},
     "output_type": "execute_result"
    }
   ],
   "source": [
    "\n",
    "//Program 4.2   \n",
    "   int[] tinggi;\n",
    "   tinggi = new int[3];\n",
    "   tinggi[0] = 3;  \n",
    "   tinggi[1] = 6;\n",
    "   tinggi[2] = 3;\n",
    "   \n",
    "   for(int n:tinggi) {\n",
    "       System.out.println(\"Tinggi adalah:\"+n);\n",
    "   }"
   ]
  },
  {
   "cell_type": "code",
   "execution_count": null,
   "metadata": {},
   "outputs": [],
   "source": []
  },
  {
   "cell_type": "markdown",
   "metadata": {},
   "source": [
    "Jawaban Tugas 4.4"
   ]
  },
  {
   "cell_type": "code",
   "execution_count": 26,
   "metadata": {},
   "outputs": [
    {
     "name": "stdout",
     "output_type": "stream",
     "text": [
      "Tinggi adalah:3\n",
      "Tinggi adalah:5\n",
      "Tinggi adalah:6\n"
     ]
    },
    {
     "data": {
      "text/plain": [
       "null"
      ]
     },
     "execution_count": 26,
     "metadata": {},
     "output_type": "execute_result"
    }
   ],
   "source": [
    "//Program 4.3 \n",
    "import java.util.Arrays;\n",
    "int[] tinggi;\n",
    "   tinggi = new int[3];\n",
    "   tinggi[0] = 5;  \n",
    "   tinggi[1] = 6;\n",
    "   tinggi[2] = 3;\n",
    "\n",
    "Arrays.sort(tinggi);\n",
    "   \n",
    "   for(int n:tinggi) {\n",
    "       System.out.println(\"Tinggi adalah:\"+n);\n",
    "   }"
   ]
  },
  {
   "cell_type": "markdown",
   "metadata": {},
   "source": [
    "Jawaban Tugas 4.5"
   ]
  },
  {
   "cell_type": "code",
   "execution_count": 14,
   "metadata": {},
   "outputs": [
    {
     "name": "stdout",
     "output_type": "stream",
     "text": [
      "Nilai [0,0] = 0.00 \n",
      "Nilai [0,1] = 1.00 \n",
      "Nilai [1,0] = 2.00 \n",
      "Nilai [1,1] = 3.00 \n",
      "Nilai = 0.0\n",
      "Nilai = 1.0\n",
      "Nilai = 2.0\n",
      "Nilai = 3.0\n"
     ]
    },
    {
     "data": {
      "text/plain": [
       "null"
      ]
     },
     "execution_count": 14,
     "metadata": {},
     "output_type": "execute_result"
    }
   ],
   "source": [
    "//Program 4.4\n",
    "   double[][] matriks = new double[][]\n",
    "{\n",
    "           {0,1},\n",
    "           {2,3}\n",
    "        };\n",
    "   \n",
    "   //cara biasa\n",
    "   for(int i=0;i<matriks.length;i++) {\n",
    "       for (int j=0;j<matriks[i].length;j++) {\n",
    "         System.out.printf(\"Nilai [%d,%d] = %4.2f \\n\",i,j,matriks[i][j]);  \n",
    "       }      \n",
    "   }\n",
    "   \n",
    "   //cara foreach\n",
    "   for(double[] baris:matriks) {\n",
    "       for (double val:baris) {\n",
    "         System.out.println(\"Nilai = \"+val);  \n",
    "       }      \n",
    "   }"
   ]
  },
  {
   "cell_type": "markdown",
   "metadata": {},
   "source": [
    "Jawaban Tugas 4.6"
   ]
  },
  {
   "cell_type": "code",
   "execution_count": 35,
   "metadata": {},
   "outputs": [
    {
     "name": "stdout",
     "output_type": "stream",
     "text": [
      "6 0 \n",
      "6 8 \n"
     ]
    },
    {
     "data": {
      "text/plain": [
       "null"
      ]
     },
     "execution_count": 35,
     "metadata": {},
     "output_type": "execute_result"
    }
   ],
   "source": [
    "    int matrix1[][] = new int[2][2];\n",
    "        matrix1[0][0] = 5;\n",
    "        matrix1[0][1] = 0;\n",
    "        matrix1[1][0] = 2;\n",
    "        matrix1[1][1] = 6;\n",
    "\n",
    "        int matrix2[][] = new int[2][2];\n",
    "        matrix2[0][0] = 1;\n",
    "        matrix2[0][1] = 0;\n",
    "        matrix2[1][0] = 4;\n",
    "        matrix2[1][1] = 2;\n",
    "\n",
    "        for (int i = 0; i < matrix1.length; i++){\n",
    "            for (int j = 0; j < matrix1[0].length; j++){\n",
    "                int elem = matrix1[i][j] + matrix2[i][j]; \n",
    "                System.out.print( elem + \" \");\n",
    "            }       \n",
    "            System.out.println();\n",
    "        }"
   ]
  },
  {
   "cell_type": "code",
   "execution_count": null,
   "metadata": {},
   "outputs": [],
   "source": []
  }
 ],
 "metadata": {
  "kernelspec": {
   "display_name": "Java",
   "language": "java",
   "name": "java"
  },
  "language_info": {
   "codemirror_mode": "text/x-java",
   "file_extension": ".java",
   "mimetype": "",
   "name": "Java",
   "nbconverter_exporter": "",
   "version": "1.8.0_121"
  },
  "toc": {
   "base_numbering": 1,
   "nav_menu": {},
   "number_sections": false,
   "sideBar": false,
   "skip_h1_title": false,
   "title_cell": "Table of Contents",
   "title_sidebar": "Contents",
   "toc_cell": false,
   "toc_position": {},
   "toc_section_display": false,
   "toc_window_display": false
  }
 },
 "nbformat": 4,
 "nbformat_minor": 2
}
